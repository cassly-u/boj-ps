{
  "nbformat": 4,
  "nbformat_minor": 0,
  "metadata": {
    "colab": {
      "provenance": []
    },
    "kernelspec": {
      "name": "python3",
      "display_name": "Python 3"
    },
    "language_info": {
      "name": "python"
    }
  },
  "cells": [
    {
      "cell_type": "code",
      "execution_count": null,
      "metadata": {
        "id": "u0Anmf7oCRG2"
      },
      "outputs": [],
      "source": [
        "#사전\n",
        "\n",
        "import sys\n",
        "m,n,k = map(int, sys.stdin.readline().split())\n",
        "\n",
        "def factorial(n):\n",
        "    ans = 1\n",
        "    i = 1\n",
        "    while i <= n:\n",
        "        ans *= i\n",
        "        i += 1\n",
        "    return ans\n",
        "\n",
        "def same_combi (x,y):\n",
        "    ans =factorial(x+y)//(factorial(x)*factorial(y))\n",
        "    return ans\n",
        "\n",
        "def funn(p,q,n,k,ans,cnt):\n",
        "    a = 0\n",
        "    j = 1\n",
        "    if k == 1:\n",
        "        print (ans + 'a'*p + 'z'*q)\n",
        "    else:\n",
        "        k -= 1\n",
        "        while True:\n",
        "            if a + same_combi(q-1,j) >= k:\n",
        "                break\n",
        "            else:\n",
        "                a += same_combi(q-1,j)\n",
        "                j += 1\n",
        "        t = p-j\n",
        "        ans += ('a'*t + 'z')\n",
        "        p -= t\n",
        "        q -= 1\n",
        "        k -= a\n",
        "        cnt += 1\n",
        "        if cnt == n:\n",
        "            addd = 'a'*p\n",
        "            print (ans+addd)\n",
        "        else:\n",
        "            funn(p,q,n,k,ans,cnt)\n",
        "\n",
        "if same_combi(n,m) < k:\n",
        "    print(-1)\n",
        "else:\n",
        "    funn(m,n,n,k,'',0)"
      ]
    }
  ]
}