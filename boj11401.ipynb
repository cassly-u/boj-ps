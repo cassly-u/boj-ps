{
  "nbformat": 4,
  "nbformat_minor": 0,
  "metadata": {
    "colab": {
      "provenance": []
    },
    "kernelspec": {
      "name": "python3",
      "display_name": "Python 3"
    },
    "language_info": {
      "name": "python"
    }
  },
  "cells": [
    {
      "cell_type": "code",
      "execution_count": null,
      "metadata": {
        "id": "jbQreqfO1KYU"
      },
      "outputs": [],
      "source": [
        "#이항 계수 3\n",
        "\n",
        "n, k = map(int,input().split())\n",
        "P = 1000000007\n",
        "\n",
        "def factorial(num, mod):\n",
        "    result = 1\n",
        "    for i in range(2, num+1): #2~num\n",
        "        result = result * i % P\n",
        "    return result\n",
        "\n",
        "def power(num, p, mod):\n",
        "    if p == 1:\n",
        "        return num % mod\n",
        "    if p % 2:\n",
        "        return ((power(num,p//2,mod) ** 2) * num) % mod\n",
        "    else:\n",
        "        return (power(num,p//2,mod) ** 2) % mod\n",
        "    # 분할 정복은 이 거듭제곱에서 활용된다.\n",
        "\n",
        "print(factorial(n, P) * power((factorial(k, P) * factorial(n-k, P)), P-2, P) % P)"
      ]
    }
  ]
}