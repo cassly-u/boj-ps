{
  "nbformat": 4,
  "nbformat_minor": 0,
  "metadata": {
    "colab": {
      "provenance": []
    },
    "kernelspec": {
      "name": "python3",
      "display_name": "Python 3"
    },
    "language_info": {
      "name": "python"
    }
  },
  "cells": [
    {
      "cell_type": "code",
      "execution_count": null,
      "metadata": {
        "id": "DMFimQDICy67"
      },
      "outputs": [],
      "source": [
        "#네 개의 소수\n",
        "\n",
        "import sys\n",
        "def prime_list(n):\n",
        "    a = [True for i in range(n+1)]\n",
        "    a[0], a[1] = False, False\n",
        "    for j in range(2,int(n**0.5)+1):\n",
        "        if a[j] == True:\n",
        "            for k in range(j*j, n+1, j):\n",
        "                a[k] = False\n",
        "    return a #소수 리스트\n",
        "\n",
        "n = int(sys.stdin.readline())\n",
        "\n",
        "answer = ''\n",
        "if n<8:\n",
        "    print(-1)\n",
        "elif n%2 == 1: #홀수\n",
        "    answer += '2 3 '\n",
        "    n -= 5\n",
        "else: #짝수\n",
        "    answer += '2 2 '\n",
        "    n -= 4\n",
        "\n",
        "a = prime_list(n)\n",
        "for i in range(2, n//2+1):\n",
        "    if a[i] and a[n-i]:\n",
        "        answer += (str(i) + ' ' + str(n-i))\n",
        "        print(answer)\n",
        "        break"
      ]
    }
  ]
}