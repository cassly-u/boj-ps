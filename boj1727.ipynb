{
  "nbformat": 4,
  "nbformat_minor": 0,
  "metadata": {
    "colab": {
      "provenance": []
    },
    "kernelspec": {
      "name": "python3",
      "display_name": "Python 3"
    },
    "language_info": {
      "name": "python"
    }
  },
  "cells": [
    {
      "cell_type": "code",
      "execution_count": null,
      "metadata": {
        "id": "s3g213s6ChOu"
      },
      "outputs": [],
      "source": [
        "#커플만들기\n",
        "\n",
        "import sys\n",
        "input = sys.stdin.readline\n",
        "n,m = map(int,input().split())\n",
        "M = list(map(int, input().split()))\n",
        "W = list(map(int, input().split()))\n",
        "if n>m:\n",
        "    M,W=W,M\n",
        "    n,m=m,n\n",
        "dp = [[0]*m for i in range(n)]\n",
        "M.sort()\n",
        "W.sort()\n",
        "dp[0][0]=abs(M[0]-W[0])\n",
        "for j in range(1,m-n+1):\n",
        "    dp[0][j] = min(abs(M[0]-W[j]), dp[0][j-1])#오른쪽에 계속해서 최솟값을 갱신\n",
        "for i in range(1,n): #첫번째줄부터 쭉 계산\n",
        "    for j in range(i,m-n+i+1):\n",
        "        if i==j:\n",
        "            dp[i][j] = dp[i-1][j-1] + abs(M[i]-W[j])\n",
        "        else:\n",
        "            dp[i][j] = min(dp[i-1][j-1]+abs(M[i]-W[j]),dp[i][j-1])\n",
        "print(dp[n-1][m-1])"
      ]
    }
  ]
}